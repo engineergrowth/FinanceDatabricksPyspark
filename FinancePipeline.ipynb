{
 "cells": [
  {
   "cell_type": "code",
   "execution_count": 0,
   "metadata": {
    "application/vnd.databricks.v1+cell": {
     "cellMetadata": {
      "byteLimit": 2048000,
      "rowLimit": 10000
     },
     "inputWidgets": {},
     "nuid": "72f2955a-bd33-4f53-a528-ac2a6b5b629a",
     "showTitle": false,
     "tableResultSettingsMap": {},
     "title": ""
    }
   },
   "outputs": [
    {
     "output_type": "stream",
     "name": "stdout",
     "output_type": "stream",
     "text": [
      "Collecting yfinance\n  Obtaining dependency information for yfinance from https://files.pythonhosted.org/packages/8d/51/9f26741aeeb149fe75b30bceee389cf9920f9458d0f213539398aa217b99/yfinance-0.2.52-py2.py3-none-any.whl.metadata\n  Using cached yfinance-0.2.52-py2.py3-none-any.whl.metadata (5.8 kB)\nRequirement already satisfied: pandas>=1.3.0 in /databricks/python3/lib/python3.11/site-packages (from yfinance) (1.5.3)\nRequirement already satisfied: numpy>=1.16.5 in /databricks/python3/lib/python3.11/site-packages (from yfinance) (1.23.5)\nRequirement already satisfied: requests>=2.31 in /databricks/python3/lib/python3.11/site-packages (from yfinance) (2.31.0)\nCollecting multitasking>=0.0.7 (from yfinance)\n  Obtaining dependency information for multitasking>=0.0.7 from https://files.pythonhosted.org/packages/3e/8a/bb3160e76e844db9e69a413f055818969c8acade64e1a9ac5ce9dfdcf6c1/multitasking-0.0.11-py3-none-any.whl.metadata\n  Using cached multitasking-0.0.11-py3-none-any.whl.metadata (5.5 kB)\nCollecting lxml>=4.9.1 (from yfinance)\n  Obtaining dependency information for lxml>=4.9.1 from https://files.pythonhosted.org/packages/42/07/b29571a58a3a80681722ea8ed0ba569211d9bb8531ad49b5cacf6d409185/lxml-5.3.0-cp311-cp311-manylinux_2_28_x86_64.whl.metadata\n  Using cached lxml-5.3.0-cp311-cp311-manylinux_2_28_x86_64.whl.metadata (3.8 kB)\nRequirement already satisfied: platformdirs>=2.0.0 in /databricks/python3/lib/python3.11/site-packages (from yfinance) (3.10.0)\nRequirement already satisfied: pytz>=2022.5 in /databricks/python3/lib/python3.11/site-packages (from yfinance) (2022.7)\nCollecting frozendict>=2.3.4 (from yfinance)\n  Obtaining dependency information for frozendict>=2.3.4 from https://files.pythonhosted.org/packages/04/13/d9839089b900fa7b479cce495d62110cddc4bd5630a04d8469916c0e79c5/frozendict-2.4.6-py311-none-any.whl.metadata\n  Using cached frozendict-2.4.6-py311-none-any.whl.metadata (23 kB)\nCollecting peewee>=3.16.2 (from yfinance)\n  Using cached peewee-3.17.8-cp311-cp311-linux_x86_64.whl\nCollecting beautifulsoup4>=4.11.1 (from yfinance)\n  Obtaining dependency information for beautifulsoup4>=4.11.1 from https://files.pythonhosted.org/packages/b1/fe/e8c672695b37eecc5cbf43e1d0638d88d66ba3a44c4d321c796f4e59167f/beautifulsoup4-4.12.3-py3-none-any.whl.metadata\n  Using cached beautifulsoup4-4.12.3-py3-none-any.whl.metadata (3.8 kB)\nCollecting html5lib>=1.1 (from yfinance)\n  Obtaining dependency information for html5lib>=1.1 from https://files.pythonhosted.org/packages/6c/dd/a834df6482147d48e225a49515aabc28974ad5a4ca3215c18a882565b028/html5lib-1.1-py2.py3-none-any.whl.metadata\n  Using cached html5lib-1.1-py2.py3-none-any.whl.metadata (16 kB)\nCollecting soupsieve>1.2 (from beautifulsoup4>=4.11.1->yfinance)\n  Obtaining dependency information for soupsieve>1.2 from https://files.pythonhosted.org/packages/d1/c2/fe97d779f3ef3b15f05c94a2f1e3d21732574ed441687474db9d342a7315/soupsieve-2.6-py3-none-any.whl.metadata\n  Using cached soupsieve-2.6-py3-none-any.whl.metadata (4.6 kB)\nRequirement already satisfied: six>=1.9 in /usr/lib/python3/dist-packages (from html5lib>=1.1->yfinance) (1.16.0)\nCollecting webencodings (from html5lib>=1.1->yfinance)\n  Obtaining dependency information for webencodings from https://files.pythonhosted.org/packages/f4/24/2a3e3df732393fed8b3ebf2ec078f05546de641fe1b667ee316ec1dcf3b7/webencodings-0.5.1-py2.py3-none-any.whl.metadata\n  Using cached webencodings-0.5.1-py2.py3-none-any.whl.metadata (2.1 kB)\nRequirement already satisfied: python-dateutil>=2.8.1 in /databricks/python3/lib/python3.11/site-packages (from pandas>=1.3.0->yfinance) (2.8.2)\nRequirement already satisfied: charset-normalizer<4,>=2 in /databricks/python3/lib/python3.11/site-packages (from requests>=2.31->yfinance) (2.0.4)\nRequirement already satisfied: idna<4,>=2.5 in /databricks/python3/lib/python3.11/site-packages (from requests>=2.31->yfinance) (3.4)\nRequirement already satisfied: urllib3<3,>=1.21.1 in /databricks/python3/lib/python3.11/site-packages (from requests>=2.31->yfinance) (1.26.16)\nRequirement already satisfied: certifi>=2017.4.17 in /databricks/python3/lib/python3.11/site-packages (from requests>=2.31->yfinance) (2023.7.22)\nUsing cached yfinance-0.2.52-py2.py3-none-any.whl (108 kB)\nUsing cached beautifulsoup4-4.12.3-py3-none-any.whl (147 kB)\nUsing cached frozendict-2.4.6-py311-none-any.whl (16 kB)\nUsing cached html5lib-1.1-py2.py3-none-any.whl (112 kB)\nUsing cached lxml-5.3.0-cp311-cp311-manylinux_2_28_x86_64.whl (5.0 MB)\nUsing cached multitasking-0.0.11-py3-none-any.whl (8.5 kB)\nUsing cached soupsieve-2.6-py3-none-any.whl (36 kB)\nUsing cached webencodings-0.5.1-py2.py3-none-any.whl (11 kB)\nInstalling collected packages: webencodings, peewee, multitasking, soupsieve, lxml, html5lib, frozendict, beautifulsoup4, yfinance\nSuccessfully installed beautifulsoup4-4.12.3 frozendict-2.4.6 html5lib-1.1 lxml-5.3.0 multitasking-0.0.11 peewee-3.17.8 soupsieve-2.6 webencodings-0.5.1 yfinance-0.2.52\n\u001B[43mNote: you may need to restart the kernel using %restart_python or dbutils.library.restartPython() to use updated packages.\u001B[0m\n"
     ]
    }
   ],
   "source": [
    "%pip install yfinance\n",
    "\n",
    "import yfinance as yf\n",
    "from pyspark.sql import SparkSession\n",
    "from pyspark.sql.functions import col, avg, stddev, when, lit, sum as _sum\n",
    "from pyspark.sql.window import Window\n"
   ]
  },
  {
   "cell_type": "code",
   "execution_count": 0,
   "metadata": {
    "application/vnd.databricks.v1+cell": {
     "cellMetadata": {
      "byteLimit": 2048000,
      "rowLimit": 10000
     },
     "inputWidgets": {},
     "nuid": "a0e53d87-84f6-4e15-8c98-a0549b3ea44d",
     "showTitle": false,
     "tableResultSettingsMap": {},
     "title": ""
    }
   },
   "outputs": [
    {
     "output_type": "stream",
     "name": "stdout",
     "output_type": "stream",
     "text": [
      "+-------------------+-----------------+-----------------+-----------------+-----------------+---------+---------+------+\n|               Date|             Open|             High|              Low|            Close|   Volume|Dividends|Ticker|\n+-------------------+-----------------+-----------------+-----------------+-----------------+---------+---------+------+\n|2020-01-24 05:00:00|77.61920173441393| 78.3657000922343|76.95752718801279|77.14900207519531|146537600|      0.0|  AAPL|\n|2020-01-27 05:00:00|75.14943709018755|75.56388879724423|73.89395899955545|74.88040924072266|161940000|      0.0|  AAPL|\n|2020-01-28 05:00:00|75.76505276717205| 77.1707993206053|75.66567993131815|76.99871826171875|162234000|      0.0|  AAPL|\n|2020-01-29 05:00:00|78.63716877095959|79.46122758988011|77.89308902061387|78.61050415039062|216229200|      0.0|  AAPL|\n|2020-01-30 05:00:00| 77.6894834620713|78.54989623607841|77.25563796528307|78.49657440185547|126743200|      0.0|  AAPL|\n|2020-01-31 05:00:00|77.78398880426934|78.20813732112357|74.72042850588934|75.01612091064453|199588400|      0.0|  AAPL|\n|2020-02-03 05:00:00|73.75338735630919|75.98077426743717|73.24925964840867|74.81012725830078|173788400|      0.0|  AAPL|\n|2020-02-04 05:00:00|76.42187506467558|77.47134392906342|76.01469422241806|77.27986907958984|136616400|      0.0|  AAPL|\n|2020-02-05 05:00:00|78.41173571221898|78.71228029302294|77.30410766529131| 77.9100341796875|118826800|      0.0|  AAPL|\n|2020-02-06 05:00:00|78.18149548402742|78.82377617084421|77.62161992339047|78.82135009765625|105425600|      0.0|  AAPL|\n|2020-02-07 05:00:00|78.31846195048404|78.56869590968388|77.25678964383889|77.74996948242188|117684000|   0.1925|  AAPL|\n|2020-02-10 05:00:00|76.32872251651483|78.11923217773438|76.24855365122801|78.11923217773438|109348800|      0.0|  AAPL|\n|2020-02-11 05:00:00|78.61728539819471|78.69016619390229| 77.4292765293241| 77.6479263305664| 94323200|      0.0|  AAPL|\n|2020-02-12 05:00:00|78.09979998299478|79.49673857196723|78.09979998299478|79.49188232421875|113730400|      0.0|  AAPL|\n|2020-02-13 05:00:00|78.76061038013486|79.25379012572942|78.55653676962524|78.92581176757812| 94747600|      0.0|  AAPL|\n|2020-02-14 05:00:00|78.89422750170591|79.19548537647773|78.43506373229454|78.94525146484375| 80113600|      0.0|  AAPL|\n|2020-02-18 05:00:00|76.61539135590418|77.68192708006474|76.43318198824178|77.49971771240234|152531200|      0.0|  AAPL|\n|2020-02-19 05:00:00|77.74267613948199| 78.8529405124876|77.74267613948199|78.62213897705078| 93984000|      0.0|  AAPL|\n|2020-02-20 05:00:00|78.38162741760964|78.87237540713653| 77.3078034073495|77.81555938720703|100566000|      0.0|  AAPL|\n|2020-02-21 05:00:00|77.40740168585418|77.85199672111999|75.43468266835458|76.05419158935547|129554000|      0.0|  AAPL|\n+-------------------+-----------------+-----------------+-----------------+-----------------+---------+---------+------+\nonly showing top 20 rows\n\n"
     ]
    }
   ],
   "source": [
    "import yfinance as yf\n",
    "\n",
    "# List of stock tickers to fetch data for\n",
    "tickers = [\"AAPL\", \"MSFT\", \"AMZN\", \"GOOGL\", \"TSLA\"]\n",
    "\n",
    "# Initialize an empty DataFrame for all stocks\n",
    "stocks_df = None\n",
    "\n",
    "# Fetch historical data for each ticker\n",
    "for ticker in tickers:\n",
    "    # Fetch 5 years of historical data\n",
    "    stock = yf.Ticker(ticker)\n",
    "    hist = stock.history(period=\"5y\")\n",
    "    hist.reset_index(inplace=True)  # Reset index to make 'Date' a column\n",
    "    hist[\"Ticker\"] = ticker  # Add the ticker as a column for identification\n",
    "\n",
    "    # Convert to a Spark DataFrame\n",
    "    ticker_df = spark.createDataFrame(hist)\n",
    "\n",
    "    # Combine all tickers into one DataFrame\n",
    "    if stocks_df is None:\n",
    "        stocks_df = ticker_df\n",
    "    else:\n",
    "        stocks_df = stocks_df.union(ticker_df)\n",
    "\n",
    "# Drop the 'Stock Splits' column as it's not needed\n",
    "stocks_df = stocks_df.drop(\"Stock Splits\")\n",
    "\n",
    "# Save the raw data to Delta format for storage\n",
    "stocks_df.write.format(\"delta\").mode(\"overwrite\").save(\"/mnt/raw/stock_data\")\n",
    "\n",
    "# Display the raw DataFrame to verify the data\n",
    "stocks_df.show()\n"
   ]
  },
  {
   "cell_type": "code",
   "execution_count": 0,
   "metadata": {
    "application/vnd.databricks.v1+cell": {
     "cellMetadata": {
      "byteLimit": 2048000,
      "rowLimit": 10000
     },
     "inputWidgets": {},
     "nuid": "046289d9-17f3-406a-959c-6e15c7db9f34",
     "showTitle": false,
     "tableResultSettingsMap": {},
     "title": ""
    }
   },
   "outputs": [
    {
     "output_type": "stream",
     "name": "stdout",
     "output_type": "stream",
     "text": [
      "+-------------------+------+-----------------+-----------------+------------------+--------------------+\n|               Date|Ticker|            Close|           SMA_30|     Volatility_30|   cumulative_return|\n+-------------------+------+-----------------+-----------------+------------------+--------------------+\n|2020-01-24 05:00:00|  AAPL|77.14900207519531|77.14900207519531|              NULL|-0.00605777499268...|\n|2020-01-27 05:00:00|  AAPL|74.88040924072266|76.01470565795898|1.6041373770068261|-0.00963768004429...|\n|2020-01-28 05:00:00|  AAPL|76.99871826171875|76.34270985921223|1.2686168177485777|0.006645097430142716|\n|2020-01-29 05:00:00|  AAPL|78.61050415039062|76.90965843200684| 1.535789207636151|0.006306013241511392|\n|2020-01-30 05:00:00|  AAPL|78.49657440185547|77.22704162597657|1.5075300417540216|0.016694690110217868|\n|2020-01-31 05:00:00|  AAPL|75.01612091064453|76.85855484008789|1.6225943823642721|-0.01888934120745...|\n|2020-02-03 05:00:00|  AAPL|74.81012725830078|76.56592232840401| 1.671360807743487|-0.00456132265982...|\n|2020-02-04 05:00:00|  AAPL|77.27986907958984|76.65516567230225|1.5678322917807554|0.006665750925949...|\n|2020-02-05 05:00:00|  AAPL| 77.9100341796875|76.79459550645616|1.5250580123806383|2.674544467996600...|\n|2020-02-06 05:00:00|  AAPL|78.82135009765625|76.99727096557618|1.5742150172446316|0.008451675145923413|\n|2020-02-07 05:00:00|  AAPL|77.74996948242188|77.06569810347123|1.5105769208061781|0.001192946438743...|\n|2020-02-10 05:00:00|  AAPL|78.11923217773438|77.15349260965984|1.4720383480230104| 0.02465082182545835|\n|2020-02-11 05:00:00|  AAPL| 77.6479263305664|77.19152597280649|1.4160251176463339|0.012320720846792874|\n|2020-02-12 05:00:00|  AAPL|79.49188232421875| 77.3558371407645|1.4929369792028244|0.030145124257903742|\n|2020-02-13 05:00:00|  AAPL|78.92581176757812|77.46050211588542|1.4946497364148317| 0.03224263704565289|\n|2020-02-14 05:00:00|  AAPL|78.94525146484375|77.55329895019531|1.4909144905910183| 0.03288937591050499|\n|2020-02-18 05:00:00|  AAPL|77.49971771240234|77.55014711267808|1.4436302405633097|0.044431787178629584|\n|2020-02-19 05:00:00|  AAPL|78.62213897705078|77.60970221625433|1.4231368896636858|0.055744271919840535|\n|2020-02-20 05:00:00|  AAPL|77.81555938720703|77.62053680419922|1.3838465536218159|0.048522324008671895|\n|2020-02-21 05:00:00|  AAPL|76.05419158935547|77.54221954345704| 1.391729869753888|  0.0310406611828028|\n+-------------------+------+-----------------+-----------------+------------------+--------------------+\nonly showing top 20 rows\n\n+------+----+------------------+------------+\n|Ticker|Year|         avg_close|total_volume|\n+------+----+------------------+------------+\n|  AAPL|2022|152.77534478784082| 22065504500|\n|  AAPL|2024|206.77007317921473| 14396068100|\n|  MSFT|2021|267.99495806012834|  6555279200|\n|  AAPL|2021|138.34601035950675| 22812206100|\n|  AAPL|2020| 94.06364025789149| 37942757600|\n|  AAPL|2023|171.28199618530275| 14804257200|\n|  AAPL|2025| 234.0192128499349|   805435359|\n|  MSFT|2020| 187.5650338565602|  9173737700|\n|  MSFT|2024| 418.7454258752248|  5188132300|\n|  AMZN|2022| 126.0988188055882| 19096256300|\n|  MSFT|2023|310.41209075927736|  6918889900|\n|  AMZN|2021|167.19334932357546| 17076362000|\n|  AMZN|2020|136.54789454997086| 23938556000|\n|  MSFT|2025| 427.4986612955729|   283422486|\n|  MSFT|2022| 263.2226385595314|  7836049700|\n|  AMZN|2024|184.62869050767688| 10327755300|\n|  AMZN|2023| 121.3728003540039| 14707898000|\n| GOOGL|2020| 73.83277909094546|  9620684000|\n| GOOGL|2022|114.34585744546229|  8726650100|\n|  AMZN|2025|225.05533548990886|   456108698|\n+------+----+------------------+------------+\nonly showing top 20 rows\n\n"
     ]
    }
   ],
   "source": [
    "# Define windows rolling metrics\n",
    "rolling_window_30 = Window.partitionBy(\"Ticker\").orderBy(\"Date\").rowsBetween(-29, 0)\n",
    "rolling_window_90 = Window.partitionBy(\"Ticker\").orderBy(\"Date\").rowsBetween(-89, 0)\n",
    "\n",
    "# 1. Daily Return\n",
    "stocks_df = stocks_df.withColumn(\n",
    "    \"daily_return\", (col(\"Close\") - col(\"Open\")) / col(\"Open\")\n",
    ")\n",
    "\n",
    "# 2. Rolling Metrics (30-day and 90-day)\n",
    "stocks_df = stocks_df.withColumn(\"SMA_30\", avg(\"Close\").over(rolling_window_30))\n",
    "stocks_df = stocks_df.withColumn(\"SMA_90\", avg(\"Close\").over(rolling_window_90))\n",
    "stocks_df = stocks_df.withColumn(\"Volatility_30\", stddev(\"Close\").over(rolling_window_30))\n",
    "\n",
    "# 3. Cumulative Return Over 5 Years\n",
    "stocks_df = stocks_df.withColumn(\n",
    "    \"cumulative_return\",\n",
    "    _sum(\"daily_return\").over(Window.partitionBy(\"Ticker\").orderBy(\"Date\"))\n",
    ")\n",
    "\n",
    "# 4. Yearly Aggregations\n",
    "# Extract the year from the date\n",
    "stocks_df = stocks_df.withColumn(\"Year\", col(\"Date\").substr(1, 4))\n",
    "\n",
    "# Calculate average close price and total volume by year\n",
    "stocks_yearly_df = stocks_df.groupBy(\"Ticker\", \"Year\").agg(\n",
    "    avg(\"Close\").alias(\"avg_close\"),\n",
    "    _sum(\"Volume\").alias(\"total_volume\")\n",
    ")\n",
    "\n",
    "# Create schemas\n",
    "spark.sql(\"CREATE SCHEMA IF NOT EXISTS staging\")\n",
    "spark.sql(\"CREATE SCHEMA IF NOT EXISTS analytics\")\n",
    "\n",
    "# Save the transformed data\n",
    "stocks_df.write.format(\"delta\").mode(\"overwrite\").saveAsTable(\"dehub.staging.stocks_data_transformed\")\n",
    "stocks_yearly_df.write.format(\"delta\").mode(\"overwrite\").saveAsTable(\"dehub.analytics.stocks_yearly\")\n",
    "\n",
    "\n",
    "\n",
    "# Display both datasets\n",
    "stocks_df.select(\"Date\", \"Ticker\", \"Close\", \"SMA_30\", \"Volatility_30\", \"cumulative_return\").show()\n",
    "stocks_yearly_df.show()\n"
   ]
  },
  {
   "cell_type": "code",
   "execution_count": 0,
   "metadata": {
    "application/vnd.databricks.v1+cell": {
     "cellMetadata": {
      "byteLimit": 2048000,
      "rowLimit": 10000
     },
     "inputWidgets": {},
     "nuid": "e3c540c4-2324-4c94-b2e6-93f24f929669",
     "showTitle": false,
     "tableResultSettingsMap": {},
     "title": ""
    }
   },
   "outputs": [
    {
     "output_type": "stream",
     "name": "stdout",
     "output_type": "stream",
     "text": [
      "+-------------------+-----------------+-----------------+-----------------+-----------------+---------+---------+------+--------------------+-----------------+-----------------+------------------+--------------------+----+\n|               Date|             Open|             High|              Low|            Close|   Volume|Dividends|Ticker|        daily_return|           SMA_30|           SMA_90|     Volatility_30|   cumulative_return|Year|\n+-------------------+-----------------+-----------------+-----------------+-----------------+---------+---------+------+--------------------+-----------------+-----------------+------------------+--------------------+----+\n|2020-01-24 05:00:00|77.61920173441393| 78.3657000922343|76.95752718801279|77.14900207519531|146537600|      0.0|  AAPL|-0.00605777499268...|77.14900207519531|77.14900207519531|              NULL|-0.00605777499268...|2020|\n|2020-01-27 05:00:00|75.14943709018755|75.56388879724423|73.89395899955545|74.88040924072266|161940000|      0.0|  AAPL|-0.00357990505161...|76.01470565795898|76.01470565795898|1.6041373770068261|-0.00963768004429...|2020|\n|2020-01-28 05:00:00|75.76505276717205| 77.1707993206053|75.66567993131815|76.99871826171875|162234000|      0.0|  AAPL|0.016282777474435142|76.34270985921223|76.34270985921223|1.2686168177485777|0.006645097430142716|2020|\n|2020-01-29 05:00:00|78.63716877095959|79.46122758988011|77.89308902061387|78.61050415039062|216229200|      0.0|  AAPL|-3.39084188631324...|76.90965843200684|76.90965843200684| 1.535789207636151|0.006306013241511392|2020|\n|2020-01-30 05:00:00| 77.6894834620713|78.54989623607841|77.25563796528307|78.49657440185547|126743200|      0.0|  AAPL|0.010388676868706478|77.22704162597657|77.22704162597657|1.5075300417540216|0.016694690110217868|2020|\n|2020-01-31 05:00:00|77.78398880426934|78.20813732112357|74.72042850588934|75.01612091064453|199588400|      0.0|  AAPL|-0.03558403131767511|76.85855484008789|76.85855484008789|1.6225943823642721|-0.01888934120745...|2020|\n|2020-02-03 05:00:00|73.75338735630919|75.98077426743717|73.24925964840867|74.81012725830078|173788400|      0.0|  AAPL|0.014328018547628007|76.56592232840401|76.56592232840401| 1.671360807743487|-0.00456132265982...|2020|\n|2020-02-04 05:00:00|76.42187506467558|77.47134392906342|76.01469422241806|77.27986907958984|136616400|      0.0|  AAPL|0.011227073585778301|76.65516567230225|76.65516567230225|1.5678322917807554|0.006665750925949...|2020|\n|2020-02-05 05:00:00|78.41173571221898|78.71228029302294|77.30410766529131| 77.9100341796875|118826800|      0.0|  AAPL|-0.00639829647914...|76.79459550645616|76.79459550645616|1.5250580123806383|2.674544467996600...|2020|\n|2020-02-06 05:00:00|78.18149548402742|78.82377617084421|77.62161992339047|78.82135009765625|105425600|      0.0|  AAPL|0.008184220699123753|76.99727096557618|76.99727096557618|1.5742150172446316|0.008451675145923413|2020|\n+-------------------+-----------------+-----------------+-----------------+-----------------+---------+---------+------+--------------------+-----------------+-----------------+------------------+--------------------+----+\n\n+------+----+------------------+------------+\n|Ticker|Year|         avg_close|total_volume|\n+------+----+------------------+------------+\n|  AAPL|2022|152.77534478784082| 22065504500|\n|  AAPL|2024|206.77007317921473| 14396068100|\n|  MSFT|2021|267.99495806012834|  6555279200|\n|  AAPL|2021|138.34601035950675| 22812206100|\n|  AAPL|2020| 94.06364025789149| 37942757600|\n|  AAPL|2023|171.28199618530275| 14804257200|\n|  AAPL|2025| 234.0192128499349|   805435359|\n|  MSFT|2020| 187.5650338565602|  9173737700|\n|  MSFT|2024| 418.7454258752248|  5188132300|\n|  AMZN|2022| 126.0988188055882| 19096256300|\n+------+----+------------------+------------+\n\n"
     ]
    }
   ],
   "source": [
    "#Verifying everything is setup correctly\n",
    "spark.sql(\"SELECT * FROM staging.stocks_data_transformed LIMIT 10\").show()\n",
    "spark.sql(\"SELECT * FROM analytics.stocks_yearly LIMIT 10\").show()\n"
   ]
  }
 ],
 "metadata": {
  "application/vnd.databricks.v1+notebook": {
   "computePreferences": null,
   "dashboards": [],
   "environmentMetadata": {
    "base_environment": "",
    "client": "2"
   },
   "language": "python",
   "notebookMetadata": {
    "pythonIndentUnit": 4
   },
   "notebookName": "FinancePipeline",
   "widgets": {}
  },
  "language_info": {
   "name": "python"
  }
 },
 "nbformat": 4,
 "nbformat_minor": 0
}